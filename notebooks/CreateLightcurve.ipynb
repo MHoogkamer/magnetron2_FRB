{
 "cells": [
  {
   "cell_type": "markdown",
   "metadata": {},
   "source": [
    "# Create an artifical lightcurve\n",
    "In this notebook, we will make an artificial lightcurve with Gaussian noise and a Fast-rise Eponential Decay (FRED) peak. "
   ]
  },
  {
   "cell_type": "code",
   "execution_count": 57,
   "metadata": {},
   "outputs": [],
   "source": [
    "import numpy as np\n",
    "import matplotlib.pyplot as plt\n",
    "import pandas as pd"
   ]
  },
  {
   "cell_type": "code",
   "execution_count": 58,
   "metadata": {},
   "outputs": [],
   "source": [
    "def twoexp(time, theta, bkg_level=0):\n",
    "    \"\"\" The function definition for a Fast-Rise Exponential-Decay (FRED) model. \n",
    "\n",
    "    Parameters:\n",
    "    theta = list containing the peak position, amplitude, rise time \n",
    "    and skewness of the model lightcurve\n",
    "    time = time series of the actual lightcurve  \n",
    "    bkg_level = average level of the background noise (default: 0) \n",
    "\n",
    "    Returns: \n",
    "    Numpy-array of size len(self.times) with flux values. \n",
    "    \"\"\"\n",
    "    t0 = theta[0]\n",
    "    amp = theta[1]\n",
    "    scale = theta[2]\n",
    "    skew = theta[3]\n",
    "    \n",
    "    t = (time - t0) / scale\n",
    "    y = np.zeros_like(t)\n",
    "    y[t <= 0] = np.exp(t[t <= 0]) \n",
    "    y[t > 0] = np.exp(-t[t > 0] / skew) \n",
    "\n",
    "    y = np.array(y)*amp + bkg_level\n",
    "\n",
    "    return y"
   ]
  },
  {
   "cell_type": "code",
   "execution_count": 59,
   "metadata": {},
   "outputs": [],
   "source": [
    "def create_noise(time: np.array, mu: float=0, sigma: float=0.1) -> np.array:\n",
    "    \"\"\"Create Gaussian noise to inject in the ligthcurve. \n",
    "    \n",
    "    Parameters: \n",
    "    time = time series of the ligthcurve/number of elements you get in array noise\n",
    "    mu = mean of the normal distribution/background level (default: 0)\n",
    "    sigma = standard deviation of the normal distribution (default: 0.1)\n",
    "\n",
    "    Returns: array of Gaussian noise \n",
    "    \"\"\"     \n",
    "    noise = np.random.normal(mu,sigma,len(time))\n",
    "\n",
    "    return noise "
   ]
  },
  {
   "cell_type": "code",
   "execution_count": 123,
   "metadata": {},
   "outputs": [],
   "source": [
    "# Model lightcurve with values taken from first posterior sample and \n",
    "# data of \"FRB20180725A_waterfall\"\n",
    "frb_name = \"FRB20180725A\"\n",
    "pars_ex = np.array([-0.5, 10, 0.001, 1000])\n",
    "flux_err = 0.12557502721942118\n",
    "bkg_level = 0 \n",
    "time = np.array([-41.77919975, -40.79615975, -39.81311976, -38.83007976,\n",
    "       -37.84703977, -36.86399978, -35.88095978, -34.89791979,\n",
    "       -33.91487979, -32.9318398 , -31.94879981, -30.96575981,\n",
    "       -29.98271982, -28.99967982, -28.01663983, -27.03359984,\n",
    "       -26.05055984, -25.06751985, -24.08447985, -23.10143986,\n",
    "       -22.11839987, -21.13535987, -20.15231988, -19.16927988,\n",
    "       -18.18623989, -17.2031999 , -16.2201599 , -15.23711991,\n",
    "       -14.25407991, -13.27103992, -12.28799993, -11.30495993,\n",
    "       -10.32191994,  -9.33887994,  -8.35583995,  -7.37279996,\n",
    "        -6.38975996,  -5.40671997,  -4.42367997,  -3.44063998,\n",
    "        -2.45759999,  -1.47455999,  -0.49152   ,   0.49152   ,\n",
    "         1.47455999,   2.45759999,   3.44063998,   4.42367997,\n",
    "         5.40671997,   6.38975996,   7.37279996,   8.35583995,\n",
    "         9.33887994,  10.32191994,  11.30495993,  12.28799993,\n",
    "        13.27103992,  14.25407991,  15.23711991,  16.2201599 ,\n",
    "        17.2031999 ,  18.18623989,  19.16927988,  20.15231988,\n",
    "        21.13535987,  22.11839987,  23.10143986,  24.08447985,\n",
    "        25.06751985,  26.05055984,  27.03359984,  28.01663983,\n",
    "        28.99967982,  29.98271982,  30.96575981,  31.94879981,\n",
    "        32.9318398 ,  33.91487979,  34.89791979,  35.88095978,\n",
    "        36.86399978,  37.84703977,  38.83007976,  39.81311976,\n",
    "        40.79615975])"
   ]
  },
  {
   "cell_type": "code",
   "execution_count": 124,
   "metadata": {},
   "outputs": [
    {
     "data": {
      "image/png": "[encoded data removed]",
      "text/plain": [
       "<Figure size 432x288 with 1 Axes>"
      ]
     },
     "metadata": {
      "needs_background": "light"
     },
     "output_type": "display_data"
    }
   ],
   "source": [
    "# Create FRED model lightcurve and Gaussian noise \n",
    "ymodel = twoexp(time, pars_ex, 0)\n",
    "noise = create_noise(time=time, mu=bkg_level, sigma=flux_err)\n",
    "\n",
    "# # Add the noise to the model ligthcurve \n",
    "lightcurve = ymodel + noise \n",
    "\n",
    "plt.title(\"FRED Model lightcurve with Gaussian noise\")\n",
    "plt.plot(time, lightcurve)\n",
    "plt.plot(time, ymodel, alpha =0.5)\n",
    "plt.xlabel(\"Time [ms]\")\n",
    "plt.ylabel(\"Flux [Jy]\")\n",
    "plt.show()"
   ]
  },
  {
   "cell_type": "code",
   "execution_count": 125,
   "metadata": {},
   "outputs": [],
   "source": [
    "# Convert into .dat file with columns time, flux and flux error \n",
    "df = pd.DataFrame(time, columns=['time'])\n",
    "df['flux'] = lightcurve\n",
    "df['flux_err'] = flux_err  \n",
    "\n",
    "df.to_csv(f\"{frb_name}_fake2.dat\", sep=\" \", header=False, index=False) # this overwrites files with same name\n"
   ]
  },
  {
   "cell_type": "code",
   "execution_count": null,
   "metadata": {},
   "outputs": [],
   "source": []
  }
 ],
 "metadata": {
  "kernelspec": {
   "display_name": "Python 3.9.12 ('base')",
   "language": "python",
   "name": "python3"
  },
  "language_info": {
   "codemirror_mode": {
    "name": "ipython",
    "version": 3
   },
   "file_extension": ".py",
   "mimetype": "text/x-python",
   "name": "python",
   "nbconvert_exporter": "python",
   "pygments_lexer": "ipython3",
   "version": "3.9.12"
  },
  "orig_nbformat": 4,
  "vscode": {
   "interpreter": {
    "hash": "a24673b3396adf39e3027783375ad567eea8487312628d16a9beb5384620a90a"
   }
  }
 },
 "nbformat": 4,
 "nbformat_minor": 2
}
